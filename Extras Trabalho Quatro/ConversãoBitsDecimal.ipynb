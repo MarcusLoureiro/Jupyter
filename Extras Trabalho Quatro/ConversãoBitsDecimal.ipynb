{
 "cells": [
  {
   "cell_type": "markdown",
   "metadata": {},
   "source": [
    "# <center> CONVERSOR DE BINÁRIO PARA DECIMAL <center>"
   ]
  },
  {
   "cell_type": "markdown",
   "metadata": {},
   "source": [
    "#### O código funcina da seguinte maneira: Ao inserir um número binário, esse valor que será capturado em string será colocando dentro de um for, esse for terá como tamanho o próprio tamanho da string que é o número binário, e como regra, a conversção começa da direita para a esquerda, logo o for deve ser decrescente, dec, ou seja, o número decimal, irá receber ele mesmo mais a potência de base 2 elevado a pot, que inicialmente é 0. logo em seguida soma-se o indice i de valor, mas como valor é string é necessário converter para int, o que também é feito, no fim pot vai receber ela mesma mais 1 para continuar as operções até que i chege a 0."
   ]
  },
  {
   "cell_type": "code",
   "execution_count": null,
   "metadata": {},
   "outputs": [
    {
     "name": "stdout",
     "output_type": "stream",
     "text": [
      "Digite um número binário:000\n",
      "Decimal:  0\n",
      "Digite um número binário:001\n",
      "Decimal:  1\n",
      "Digite um número binário:010\n",
      "Decimal:  2\n",
      "Digite um número binário:011\n",
      "Decimal:  3\n",
      "Digite um número binário:100\n",
      "Decimal:  4\n",
      "Digite um número binário:101\n",
      "Decimal:  5\n",
      "Digite um número binário:110\n",
      "Decimal:  6\n",
      "Digite um número binário:111\n",
      "Decimal:  7\n",
      "Digite um número binário:1000\n",
      "Decimal:  8\n",
      "Digite um número binário:1001\n",
      "Decimal:  9\n",
      "Digite um número binário:1010\n",
      "Decimal:  10\n",
      "Digite um número binário:-9\n",
      "Caractere inserido inválido -\n",
      "Caractere inserido inválido 9\n",
      "Decimal:  ERRO\n",
      "Digite um número binário:8\n",
      "Caractere inserido inválido 8\n",
      "Decimal:  ERRO\n",
      "Digite um número binário:4\n",
      "Caractere inserido inválido 4\n",
      "Decimal:  ERRO\n",
      "Digite um número binário:111100111\n",
      "Decimal:  487\n"
     ]
    }
   ],
   "source": [
    "while True:\n",
    "    valor = input(\"Digite um número binário:\")\n",
    "    for i in range(len(valor)):\n",
    "        if valor[i] != \"0\" and valor[i] != \"1\":\n",
    "            print(\"Caractere inserido inválido\", valor[i])\n",
    "            dec = \"ERRO\"\n",
    "        else:\n",
    "            pot = int(0)\n",
    "            dec = int(0)\n",
    "            for i in range(len(valor) - 1, -1, -1):\n",
    "                dec = dec + pow(2, pot)*int((valor[i]))\n",
    "                pot = pot + 1\n",
    "    print(\"Decimal: \",dec)\n"
   ]
  },
  {
   "cell_type": "code",
   "execution_count": null,
   "metadata": {},
   "outputs": [],
   "source": []
  }
 ],
 "metadata": {
  "kernelspec": {
   "display_name": "Python 3",
   "language": "python",
   "name": "python3"
  },
  "language_info": {
   "codemirror_mode": {
    "name": "ipython",
    "version": 3
   },
   "file_extension": ".py",
   "mimetype": "text/x-python",
   "name": "python",
   "nbconvert_exporter": "python",
   "pygments_lexer": "ipython3",
   "version": "3.8.6"
  }
 },
 "nbformat": 4,
 "nbformat_minor": 4
}
