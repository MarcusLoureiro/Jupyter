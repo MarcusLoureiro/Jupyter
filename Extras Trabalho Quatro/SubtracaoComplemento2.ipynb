{
 "cells": [
  {
   "cell_type": "markdown",
   "metadata": {},
   "source": [
    "# <center>SUBTRAÇÃO USANDO COMPLEMENTO DE 2<center>\n",
    "    "
   ]
  },
  {
   "cell_type": "markdown",
   "metadata": {},
   "source": [
    "#### Funções do programa"
   ]
  },
  {
   "cell_type": "code",
   "execution_count": 1,
   "metadata": {},
   "outputs": [],
   "source": [
    "def BinarioDecimal(binario):\n",
    "    for i in range(len(binario)):\n",
    "        if binario[i] != \"0\" and binario[i] != \"1\":\n",
    "            print(\"Caractere inserido inválido\",binario[i])\n",
    "            dec = \"ERRO\"\n",
    "            return dec\n",
    "        else:\n",
    "            pot = int(0)\n",
    "            dec = int(0)\n",
    "            for i in range(len(binario) - 1, -1, -1):\n",
    "                dec = dec + pow(2, pot)*int((binario[i]))\n",
    "                pot = pot + 1\n",
    "    return dec\n",
    "def DecimalBinario(int, d):\n",
    "    b = \"\"\n",
    "    resposta = \"\"\n",
    "    if d < 0:\n",
    "        return b\n",
    "    elif d  == 0:\n",
    "        b = \"0\"\n",
    "        return b\n",
    "    elif d == 1:\n",
    "        b = \"1\"\n",
    "        return b\n",
    "    elif d  == 2:\n",
    "        b = \"010\"\n",
    "        return b\n",
    "    elif d == 3:\n",
    "        b = \"011\"\n",
    "        return b\n",
    "    elif d >= 4:\n",
    "        while d != 1:\n",
    "            b = b+str(d%2)\n",
    "            d = d//2\n",
    "            if d//2 == 1:\n",
    "                b = b+str(d%2)+str(d//2)\n",
    "                break\n",
    "        for i in range(len(b)-1, - 1, -1):\n",
    "            resposta += b[i]\n",
    "        return resposta\n",
    "def ExecutarComplemento2(binario): \n",
    "    n = len(binario) \n",
    "    i = n - 1\n",
    "    while(i >= 0): \n",
    "        if (binario[i] == '1'): \n",
    "            break\n",
    "        i -= 1\n",
    "    if (i == -1): \n",
    "        return '1'+binario\n",
    "    k = i - 1\n",
    "    while(k >= 0):  \n",
    "        if (binario[k] == '1'): \n",
    "            binario = list(binario) \n",
    "            binario[k] = '0'\n",
    "            binario = ''.join(binario) \n",
    "        else: \n",
    "            binario = list(binario) \n",
    "            binario[k] = '1'\n",
    "            binario = ''.join(binario) \n",
    "        k -= 1\n",
    "    return binario\n"
   ]
  },
  {
   "cell_type": "markdown",
   "metadata": {},
   "source": [
    "#### Execução da \"main\" do programa"
   ]
  },
  {
   "cell_type": "code",
   "execution_count": 2,
   "metadata": {},
   "outputs": [
    {
     "name": "stdout",
     "output_type": "stream",
     "text": [
      "O programa fará a subtração de 2 números binários:\n",
      "A operação se dá pelo primeiro - segundo\n",
      "Digite o primeiro número binário: 010\n",
      "Digite o segundo número binário: 111\n",
      "O resultado em binário: 101\n",
      "O resultado em decimal: 5\n"
     ]
    }
   ],
   "source": [
    "print(\"O programa fará a subtração de 2 números binários:\")\n",
    "print(\"A operação se dá pelo primeiro - segundo\")\n",
    "b1 =  input(\"Digite o primeiro número binário: \")\n",
    "b2 =  input(\"Digite o segundo número binário: \")\n",
    "b2c = (ExecutarComplemento2(b2))\n",
    "somaDecimal = int(BinarioDecimal(b1)+BinarioDecimal(b2c))\n",
    "somaBinaria = (DecimalBinario(int, somaDecimal))\n",
    "resultado = (ExecutarComplemento2(somaBinaria))\n",
    "print(\"O resultado em binário:\", resultado)\n",
    "print(\"O resultado em decimal:\", BinarioDecimal(resultado))"
   ]
  }
 ],
 "metadata": {
  "kernelspec": {
   "display_name": "Python 3",
   "language": "python",
   "name": "python3"
  },
  "language_info": {
   "codemirror_mode": {
    "name": "ipython",
    "version": 3
   },
   "file_extension": ".py",
   "mimetype": "text/x-python",
   "name": "python",
   "nbconvert_exporter": "python",
   "pygments_lexer": "ipython3",
   "version": "3.8.6"
  }
 },
 "nbformat": 4,
 "nbformat_minor": 4
}
