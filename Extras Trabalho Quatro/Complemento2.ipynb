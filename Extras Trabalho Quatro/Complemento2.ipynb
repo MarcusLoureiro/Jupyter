{
 "cells": [
  {
   "cell_type": "markdown",
   "metadata": {},
   "source": [
    "# <center>Complemento de 2<center>"
   ]
  },
  {
   "cell_type": "markdown",
   "metadata": {},
   "source": [
    "#### O Código irá pegar uma string, o número binário digitado pelo usuário, e jogará dentro de uma função chamada 'ExecutarComplemento2' ao entrar nesa função uma variavél n recebe o tamanho de binario, e i receberá n - 1, feito isso temos o primeiro teste, um while, com condição i>= 0. Dentro desse while, um if irá tester se binario com índice i é igual a 1, se sim, o laço parado, mas sempre dentro do while i irá ele mesmo - 1. Isso serve para pegarmos a posição do primeiro 1 do número binário. Logo depois é feito outro teste if, se i for igual a -1, retorna como valor da função o binário + '1', ou seja, acrescenta no início da cadeia de caracteres o número 1. Depois é feito outro while e if para trocar-se os valores."
   ]
  },
  {
   "cell_type": "code",
   "execution_count": 1,
   "metadata": {},
   "outputs": [
    {
     "name": "stdout",
     "output_type": "stream",
     "text": [
      "O programa fará o complemento de 2 no valor inserido\n",
      "Digite um número binário: 1110101001\n",
      "0001010111\n"
     ]
    }
   ],
   "source": [
    "print(\"O programa fará o complemento de 2 no valor inserido\")\n",
    "b =  input(\"Digite um número binário: \")\n",
    "def ExecutarComplemento2(binario): \n",
    "    n = len(binario) \n",
    "    i = n - 1\n",
    "    while(i >= 0): \n",
    "        if (binario[i] == '1'): \n",
    "            break\n",
    "        i -= 1\n",
    "    if (i == -1): \n",
    "        return '1'+binario\n",
    "    k = i - 1\n",
    "    while(k >= 0):  \n",
    "        if (binario[k] == '1'): \n",
    "            binario = list(binario) \n",
    "            binario[k] = '0'\n",
    "            binario = ''.join(binario) \n",
    "        else: \n",
    "            binario = list(binario) \n",
    "            binario[k] = '1'\n",
    "            binario = ''.join(binario) \n",
    "        k -= 1\n",
    "    return binario\n",
    "print(ExecutarComplemento2(b)) \n"
   ]
  }
 ],
 "metadata": {
  "kernelspec": {
   "display_name": "Python 3",
   "language": "python",
   "name": "python3"
  },
  "language_info": {
   "codemirror_mode": {
    "name": "ipython",
    "version": 3
   },
   "file_extension": ".py",
   "mimetype": "text/x-python",
   "name": "python",
   "nbconvert_exporter": "python",
   "pygments_lexer": "ipython3",
   "version": "3.8.6"
  }
 },
 "nbformat": 4,
 "nbformat_minor": 4
}
