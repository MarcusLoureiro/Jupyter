{
 "cells": [
  {
   "cell_type": "markdown",
   "metadata": {},
   "source": [
    "# <center>CONVERSÃO DE NÚMEROS FRACIONÁRIOS<center>"
   ]
  },
  {
   "cell_type": "code",
   "execution_count": 2,
   "metadata": {},
   "outputs": [
    {
     "name": "stdout",
     "output_type": "stream",
     "text": [
      "\n",
      "[1] Decimal fracionário para binário\n",
      "[2] Binário fracionário para decimal\n",
      "\n",
      "Digite uma das opções acima:1\n",
      "Digite um número decimal fracionário:3.125\n",
      "Digite o número de casas:3\n",
      "Número binário:  11\n",
      "11 , 001\n"
     ]
    }
   ],
   "source": [
    "b = \"\"\n",
    "d = \"\"\n",
    "respostaB=\"\"\n",
    "respostaD=\"\"\n",
    "inteiro = 0\n",
    "fracao = 0.0\n",
    "inteiroB = \"\"\n",
    "fracaoB = \"\"\n",
    "pot = 0\n",
    "potMenos = -1\n",
    "print('''\n",
    "[1] Decimal fracionário para binário\n",
    "[2] Binário fracionário para decimal\n",
    "''')\n",
    "opcao = input('''Digite uma das opções acima:''')\n",
    "if opcao == \"1\":\n",
    "    n = float(input(\"Digite um número decimal fracionário:\"))\n",
    "    casas = int(input(\"Digite o número de casas:\"))\n",
    "    inteiro = int(n)\n",
    "    fracao = round((n%inteiro), 5)\n",
    "    if inteiro < 0:\n",
    "        print(\"Número inválido, pois é negativo!\")\n",
    "    elif inteiro  == 0:\n",
    "        b = \"0\"\n",
    "        print(\"Número binário: \", b)\n",
    "    elif inteiro == 1:\n",
    "        b = \"1\"\n",
    "        print(\"Número binário: \", b)\n",
    "    elif inteiro == 2:\n",
    "        b = \"10\"\n",
    "        print(\"Número binário: \", b)\n",
    "    elif inteiro == 3:\n",
    "        b=\"11\"\n",
    "        print(\"Número binário: \", b)\n",
    "    elif inteiro > 3:\n",
    "        while inteiro != 1:\n",
    "            b = b+str(inteiro%2)\n",
    "            inteiro = inteiro//2\n",
    "            if inteiro//2 == 1:\n",
    "                b = b+str(inteiro%2)+str(inteiro//2)\n",
    "                break\n",
    "    for i in range(len(b)-1, - 1, -1):\n",
    "        respostaB += b[i]\n",
    "    while True:\n",
    "        if fracao*2 > 0 and fracao*2<1:\n",
    "            respostaD += \"0\"\n",
    "            fracao = fracao*2\n",
    "        elif(fracao*2)>1:\n",
    "            respostaD += \"1\"\n",
    "            fracao = (fracao*2)-1\n",
    "        else:\n",
    "            respostaD += \"1\"\n",
    "            break\n",
    "    print(respostaB,\",\",respostaD)\n",
    "elif opcao == \"2\":\n",
    "    n = input(\"Digite um número binário fracionário:\")\n",
    "    casas = int(input(\"Digite o número de casas:\"))\n",
    "    for i in range (len(n)):\n",
    "        if n[i] == \",\" or n[i] == \".\":\n",
    "            l = i\n",
    "    for i in range(len(n)):\n",
    "        if i < l:\n",
    "            inteiroB = inteiroB + n[i]\n",
    "        elif i > l:\n",
    "            fracaoB = fracaoB + n[i]\n",
    "    if len(fracaoB) == casas:\n",
    "        for i in range(len(inteiroB) - 1, -1, -1):\n",
    "            inteiro = inteiro + pow(2, pot)*int((inteiroB[i]))\n",
    "            pot = pot + 1\n",
    "        for i in range(len(fracaoB)):\n",
    "            fracao = fracao + pow(2, potMenos)*int((fracaoB[i]))\n",
    "            potMenos = potMenos - 1\n",
    "        fracao = round(fracao, casas)\n",
    "        print(inteiro+fracao)\n",
    "    else:\n",
    "        print(\"Número de casas inválido\")\n",
    "else:\n",
    "    print(\"Opção inválida\")"
   ]
  }
 ],
 "metadata": {
  "kernelspec": {
   "display_name": "Python 3",
   "language": "python",
   "name": "python3"
  },
  "language_info": {
   "codemirror_mode": {
    "name": "ipython",
    "version": 3
   },
   "file_extension": ".py",
   "mimetype": "text/x-python",
   "name": "python",
   "nbconvert_exporter": "python",
   "pygments_lexer": "ipython3",
   "version": "3.8.6"
  }
 },
 "nbformat": 4,
 "nbformat_minor": 4
}
