{
 "cells": [
  {
   "cell_type": "markdown",
   "metadata": {},
   "source": [
    "#### O código funcina da seguinte maneira: Ao inserir um número decimal, esse valor que será capturado será colocando dentro de um while, esse while terá como condição d != 1, fazendo sucessivas divisisões inteiras e uma string b capturará todos os resultados, no fim essa string terá seus valores invertidos em um for e por fim será imprimido a conversão correta."
   ]
  },
  {
   "cell_type": "code",
   "execution_count": null,
   "metadata": {},
   "outputs": [
    {
     "name": "stdout",
     "output_type": "stream",
     "text": [
      "Digite um número decimal a ser convertido em binário: 0\n",
      "Número binário:  0\n",
      "Digite um número decimal a ser convertido em binário: 1\n",
      "Número binário:  1\n",
      "Digite um número decimal a ser convertido em binário: 2\n",
      "Número binário:  010\n",
      "Digite um número decimal a ser convertido em binário: 3\n",
      "Número binário:  011\n",
      "Digite um número decimal a ser convertido em binário: 4\n",
      "Binario: 100\n",
      "Digite um número decimal a ser convertido em binário: 5\n",
      "Binario: 101\n",
      "Digite um número decimal a ser convertido em binário: 9\n",
      "Binario: 1001\n",
      "Digite um número decimal a ser convertido em binário: 7\n",
      "Binario: 111\n",
      "Digite um número decimal a ser convertido em binário: 5\n",
      "Binario: 101\n",
      "Digite um número decimal a ser convertido em binário: 12\n",
      "Binario: 1100\n",
      "Digite um número decimal a ser convertido em binário: 35\n",
      "Binario: 100011\n",
      "Digite um número decimal a ser convertido em binário: 98\n",
      "Binario: 1100010\n",
      "Digite um número decimal a ser convertido em binário: 100\n",
      "Binario: 1100100\n",
      "Digite um número decimal a ser convertido em binário: 123\n",
      "Binario: 1111011\n"
     ]
    }
   ],
   "source": [
    "while True:\n",
    "    b = \"\"\n",
    "    resposta = \"\"\n",
    "    d = int(input(\"Digite um número decimal a ser convertido em binário: \"))\n",
    "    if d < 0:\n",
    "        print(\"Número inválido, pois é negativo!\")\n",
    "    elif d  == 0:\n",
    "        b = \"0\"\n",
    "        print(\"Número binário: \", b)\n",
    "    elif d == 1:\n",
    "        b = \"1\"\n",
    "        print(\"Número binário: \", b)\n",
    "    elif d  == 2:\n",
    "        b = \"010\"\n",
    "        print(\"Número binário: \", b)\n",
    "    elif d == 3:\n",
    "        b = \"011\"\n",
    "        print(\"Número binário: \", b)\n",
    "    elif d >= 4:\n",
    "        while d != 1:\n",
    "            b = b+str(d%2)\n",
    "            d = d//2\n",
    "            if d//2 == 1:\n",
    "                b = b+str(d%2)+str(d//2)\n",
    "                break\n",
    "        for i in range(len(b)-1, - 1, -1):\n",
    "            resposta += b[i]\n",
    "        print(\"Binario:\",resposta)\n",
    "\n",
    "\n"
   ]
  }
 ],
 "metadata": {
  "kernelspec": {
   "display_name": "Python 3",
   "language": "python",
   "name": "python3"
  },
  "language_info": {
   "codemirror_mode": {
    "name": "ipython",
    "version": 3
   },
   "file_extension": ".py",
   "mimetype": "text/x-python",
   "name": "python",
   "nbconvert_exporter": "python",
   "pygments_lexer": "ipython3",
   "version": "3.8.6"
  }
 },
 "nbformat": 4,
 "nbformat_minor": 4
}
