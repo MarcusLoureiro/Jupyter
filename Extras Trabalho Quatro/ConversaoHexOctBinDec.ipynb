{
 "cells": [
  {
   "cell_type": "markdown",
   "metadata": {},
   "source": [
    "# <center>CONVERSÃO DE BASES NÚMERICAS<center>"
   ]
  },
  {
   "cell_type": "markdown",
   "metadata": {},
   "source": [
    "### Pedindo número e tipo de conversão"
   ]
  },
  {
   "cell_type": "code",
   "execution_count": 1,
   "metadata": {},
   "outputs": [
    {
     "name": "stdout",
     "output_type": "stream",
     "text": [
      "Digite um número:57\n"
     ]
    }
   ],
   "source": [
    "n =  input(\"Digite um número:\")\n",
    "o = \"\"\n",
    "h = \"\"\n",
    "d = \"\"\n",
    "b = \"\""
   ]
  },
  {
   "cell_type": "code",
   "execution_count": 2,
   "metadata": {},
   "outputs": [
    {
     "name": "stdout",
     "output_type": "stream",
     "text": [
      "[1] Octal -> Binário\n",
      "[2] Hex -> Binário\n",
      "[3] Octal -> Decimal\n",
      "[4] Hex -> Decimal\n",
      "[5] Binário -> Octal\n",
      "[6] Binário -> Hex\n",
      "\n",
      "Digite uma das opções acima:1\n"
     ]
    }
   ],
   "source": [
    "print('''[1] Octal -> Binário\n",
    "[2] Hex -> Binário\n",
    "[3] Octal -> Decimal\n",
    "[4] Hex -> Decimal\n",
    "[5] Binário -> Octal\n",
    "[6] Binário -> Hex\n",
    "''')\n",
    "opcao = int(input(\"Digite uma das opções acima:\"))"
   ]
  },
  {
   "cell_type": "markdown",
   "metadata": {},
   "source": [
    "#### FUNÇÕES DE CONVERSÃO"
   ]
  },
  {
   "cell_type": "code",
   "execution_count": 4,
   "metadata": {},
   "outputs": [],
   "source": [
    "def OctalParaBinario(x):\n",
    "    b = \"\"\n",
    "    for i in range(len(x)):\n",
    "        if(n[i] == \"0\"):\n",
    "            b = b + \"000\"\n",
    "        elif(n[i] == \"1\"):\n",
    "            b = b + \"001\"\n",
    "        elif(n[i] == \"2\"):\n",
    "            b = b + \"010\"\n",
    "        elif(n[i] == \"3\"):\n",
    "            b = b + \"011\"\n",
    "        elif(n[i] == \"4\"):\n",
    "            b = b + \"100\"\n",
    "        elif(n[i] == \"5\"):\n",
    "            b = b + \"101\"\n",
    "        elif(n[i] == \"6\"):\n",
    "            b = b + \"110\"\n",
    "        elif(n[i] == \"7\"):\n",
    "            b = b + \"111\"\n",
    "    return(b)\n",
    "def HexParaBinario(x):\n",
    "    b = \"\"\n",
    "    for i in range(len(x)):\n",
    "        if(n[i] == \"0\"):\n",
    "            b = b + \"0000\"\n",
    "        elif(n[i] == \"1\"):\n",
    "            b = b + \"0001\"\n",
    "        elif(n[i] == \"2\"):\n",
    "            b = b + \"0010\"\n",
    "        elif(n[i] == \"3\"):\n",
    "            b = b + \"0011\"\n",
    "        elif(n[i] == \"4\"):\n",
    "            b = b + \"0100\"\n",
    "        elif(n[i] == \"5\"):\n",
    "            b = b + \"0101\"\n",
    "        elif(n[i] == \"6\"):\n",
    "            b = b + \"0110\"\n",
    "        elif(n[i] == \"7\"):\n",
    "            b = b + \"0111\"\n",
    "        elif(n[i] == \"8\"):\n",
    "            b = b + \"1000\"\n",
    "        elif(n[i] == \"9\"):\n",
    "            b = b + \"1001\"\n",
    "        elif(n[i] == \"A\"):\n",
    "            b = b + \"1010\"\n",
    "        elif(n[i] == \"B\"):\n",
    "            b = b + \"1011\"\n",
    "        elif(n[i] == \"C\"):\n",
    "            b = b + \"1100\"\n",
    "        elif(n[i] == \"D\"):\n",
    "            b = b + \"1101\"\n",
    "        elif(n[i] == \"E\"):\n",
    "            b = b + \"1110\"\n",
    "        elif(n[i] == \"F\"):\n",
    "            b = b + \"1111\"\n",
    "    return(b)\n",
    "def octalDecimal(x):\n",
    "    x = OctalParaBinario(x)\n",
    "    d = 0\n",
    "    pot = 0\n",
    "    for i in range(len(x) - 1, -1, -1):\n",
    "        d = d + pow(2, pot)*int((x[i]))\n",
    "        pot = pot + 1\n",
    "    return(d)\n",
    "def hexDecimal(x):\n",
    "    x = HexParaBinario(x)\n",
    "    d = 0\n",
    "    pot = 0\n",
    "    for i in range(len(x) - 1, -1, -1):\n",
    "        d = d + pow(2, pot)*int((x[i]))\n",
    "        pot = pot + 1\n",
    "    return(d)\n",
    "def separaBin(string, tamanho):\n",
    "    partes = \"\"\n",
    "    n = tamanho\n",
    "    while (len(string) % n) != 0:\n",
    "        string = '0' + string\n",
    "    partes = [string[index : index + n] for index in range(0, len(string), n)]\n",
    "    return(partes)\n",
    "def binOctal(x):\n",
    "    o = \"\"\n",
    "    for i in range(len(x)):\n",
    "        if(x[i] == \"000\"):\n",
    "            o = o + \"0\"\n",
    "        if(x[i] == \"001\"):\n",
    "            o = o + \"1\"\n",
    "        if(x[i] == \"010\"):\n",
    "            o = o + \"2\"\n",
    "        if(x[i] == \"011\"):\n",
    "            o = o + \"3\"\n",
    "        if(x[i] == \"100\"):\n",
    "            o = o + \"4\"\n",
    "        if(x[i] == \"101\"):\n",
    "            o = o + \"5\"\n",
    "        if(x[i] == \"110\"):\n",
    "            o = o + \"6\"\n",
    "        if(x[i] == \"111\"):\n",
    "            o = o + \"7\"\n",
    "    return(o)\n",
    "def binHex(x):\n",
    "    h = \"\"\n",
    "    for i in range(len(x)):\n",
    "        if(x[i] == \"0000\"):\n",
    "            h = h + \"0\"\n",
    "        if(x[i] == \"0001\"):\n",
    "            h = h + \"1\"\n",
    "        if(x[i] == \"0010\"):\n",
    "            h = h + \"2\"\n",
    "        if(x[i] == \"0011\"):\n",
    "            h = h + \"3\"\n",
    "        if(x[i] == \"0100\"):\n",
    "            h = h + \"4\"\n",
    "        if(x[i] == \"0101\"):\n",
    "            h = h + \"5\"\n",
    "        if(x[i] == \"0110\"):\n",
    "            h = h + \"6\"\n",
    "        if(x[i] == \"0111\"):\n",
    "            h = h + \"7\"\n",
    "        if(n[i] == \"1000\"):\n",
    "            h = h + \"8\"\n",
    "        if(x[i] == \"1001\"):\n",
    "            h = h + \"9\"\n",
    "        if(x[i] == \"1010\"):\n",
    "            h = h + \"A\"\n",
    "        if(x[i] == \"1011\"):\n",
    "            h = h + \"B\"\n",
    "        if(x[i] == \"1100\"):\n",
    "            h = h + \"C\"\n",
    "        if(x[i] == \"1101\"):\n",
    "            h = h + \"D\"\n",
    "        if(x[i] == \"1110\"):\n",
    "            h = h + \"E\"\n",
    "        if(x[i] == \"1111\"):\n",
    "            h = h + \"F\"\n",
    "    return (h)"
   ]
  },
  {
   "cell_type": "markdown",
   "metadata": {},
   "source": [
    "#### Resultado da escolha de conversão"
   ]
  },
  {
   "cell_type": "code",
   "execution_count": 5,
   "metadata": {},
   "outputs": [
    {
     "name": "stdout",
     "output_type": "stream",
     "text": [
      "101111\n"
     ]
    }
   ],
   "source": [
    "if opcao == 1:\n",
    "    print(OctalParaBinario(n))\n",
    "elif opcao == 2:\n",
    "    print(HexParaBinario(n))\n",
    "elif opcao == 3:\n",
    "    print(octalDecimal(n))\n",
    "elif opcao == 4:\n",
    "    print(hexDecimal(n))\n",
    "elif opcao == 5:\n",
    "    b = separaBin(n, 3)\n",
    "    print(binOctal(b))\n",
    "elif opcao == 6:\n",
    "    b = separaBin(n, 4)\n",
    "    print(binHex(b))\n",
    "else:\n",
    "    print(\"Opção inválida\")"
   ]
  },
  {
   "cell_type": "code",
   "execution_count": null,
   "metadata": {},
   "outputs": [],
   "source": []
  }
 ],
 "metadata": {
  "kernelspec": {
   "display_name": "Python 3",
   "language": "python",
   "name": "python3"
  },
  "language_info": {
   "codemirror_mode": {
    "name": "ipython",
    "version": 3
   },
   "file_extension": ".py",
   "mimetype": "text/x-python",
   "name": "python",
   "nbconvert_exporter": "python",
   "pygments_lexer": "ipython3",
   "version": "3.8.6"
  }
 },
 "nbformat": 4,
 "nbformat_minor": 4
}
