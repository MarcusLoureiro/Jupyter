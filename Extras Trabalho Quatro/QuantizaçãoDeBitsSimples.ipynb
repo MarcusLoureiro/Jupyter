{
 "cells": [
  {
   "cell_type": "markdown",
   "metadata": {},
   "source": [
    "# <center> QUANTIZAÇÃO DE BITS <center>"
   ]
  },
  {
   "cell_type": "markdown",
   "metadata": {},
   "source": [
    "#### Esse pequeno código em python realiza simples operações para obter o número de bits aproximado de acordo com o nível de quantização, lembrando que são aproximações, pois a chamada quantização uniforme é muito mais complexa."
   ]
  },
  {
   "cell_type": "code",
   "execution_count": null,
   "metadata": {},
   "outputs": [
    {
     "name": "stdout",
     "output_type": "stream",
     "text": [
      "Digite os niveis de quantização:0\n",
      "O número de bits para o nível:  1\n",
      "Digite os niveis de quantização:1\n",
      "O número de bits para o nível:  2\n",
      "Digite os niveis de quantização:2\n",
      "O número de bits para o nível:  1\n",
      "Digite os niveis de quantização:3\n",
      "Digite os niveis de quantização:4\n",
      "O número de bits para o nível:  2\n",
      "Digite os niveis de quantização:5\n",
      "Digite os niveis de quantização:6\n",
      "O número de bits para o nível:  3\n",
      "Digite os niveis de quantização:7\n",
      "Digite os niveis de quantização:8\n",
      "O número de bits para o nível:  3\n",
      "Digite os niveis de quantização:9\n",
      "Digite os niveis de quantização:10\n",
      "O número de bits para o nível:  4\n"
     ]
    }
   ],
   "source": [
    "while True:\n",
    "    nbits = 0\n",
    "    niveis = int(input('Digite os niveis de quantização:'))\n",
    "    if niveis < 0:\n",
    "        print(\"Números negativos não são permitidos\")\n",
    "    elif niveis == 0:\n",
    "        nbits = 1\n",
    "        print(\"O número de bits para o nível: \", nbits )\n",
    "    elif niveis == 1:\n",
    "        nbits = 2\n",
    "        print(\"O número de bits para o nível: \", nbits )\n",
    "    elif niveis%2 == 0:\n",
    "        while (niveis>1):\n",
    "            niveis = niveis/2\n",
    "            nbits = (nbits + 1)\n",
    "        print(\"O número de bits para o nível: \", nbits )"
   ]
  },
  {
   "cell_type": "markdown",
   "metadata": {},
   "source": [
    "###### o While True serve apenas para que se possa fazer várias operações sem que seja necessário a recompilação do código."
   ]
  }
 ],
 "metadata": {
  "kernelspec": {
   "display_name": "Python 3",
   "language": "python",
   "name": "python3"
  },
  "language_info": {
   "codemirror_mode": {
    "name": "ipython",
    "version": 3
   },
   "file_extension": ".py",
   "mimetype": "text/x-python",
   "name": "python",
   "nbconvert_exporter": "python",
   "pygments_lexer": "ipython3",
   "version": "3.8.6"
  }
 },
 "nbformat": 4,
 "nbformat_minor": 4
}
