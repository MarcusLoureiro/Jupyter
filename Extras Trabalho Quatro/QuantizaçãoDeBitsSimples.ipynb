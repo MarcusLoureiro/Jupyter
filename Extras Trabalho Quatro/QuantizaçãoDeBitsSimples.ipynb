{
 "cells": [
  {
   "cell_type": "markdown",
   "metadata": {},
   "source": [
    "# <center> QUANTIZAÇÃO DE BITS <center>"
   ]
  },
  {
   "cell_type": "markdown",
   "metadata": {},
   "source": [
    "#### Esse pequeno código em python realiza simples operações para obter o número de bits aproximado de acordo com o nível de quantização, lembrando que são aproximações, pois a chamada quantização uniforme é muito mais complexa."
   ]
  },
  {
   "cell_type": "code",
   "execution_count": null,
   "metadata": {},
   "outputs": [
    {
     "name": "stdout",
     "output_type": "stream",
     "text": [
      "Digite os niveis de quantização:8\n",
      "O número de bits:  3\n",
      "Possibilidades:\n",
      "000\n",
      "001\n",
      "010\n",
      "011\n",
      "100\n",
      "101\n",
      "110\n",
      "111\n",
      "Digite os niveis de quantização:16\n",
      "O número de bits:  4\n",
      "Possibilidades:\n",
      "0000\n",
      "0001\n",
      "0010\n",
      "0011\n",
      "0100\n",
      "0101\n",
      "0110\n",
      "0111\n",
      "1000\n",
      "1001\n",
      "1010\n",
      "1011\n",
      "1100\n",
      "1101\n",
      "1110\n",
      "1111\n"
     ]
    }
   ],
   "source": [
    "while True:\n",
    "    nbits = 0\n",
    "    niveis = int(input('Digite os niveis de quantização:'))\n",
    "    q = niveis\n",
    "    v = \"\"\n",
    "    if niveis < 0:\n",
    "        print(\"Números negativos não são permitidos\")\n",
    "    elif niveis == 0:\n",
    "        print(\"Vazio\" )\n",
    "    elif niveis == 1:\n",
    "        nbits = 0\n",
    "        print(\"O número de bits: \", nbits )\n",
    "    elif niveis == 2:\n",
    "        nbits = 1\n",
    "        print(\"O número de bits: \", nbits )   \n",
    "    elif niveis%2 == 0:\n",
    "        while (niveis>1):\n",
    "            niveis = niveis/2\n",
    "            nbits = (nbits + 1)\n",
    "        print(\"O número de bits: \", nbits )\n",
    "        print(\"Possibilidades:\")\n",
    "    for i in range(2 ** nbits):\n",
    "        print(f'{i:0{nbits}b}')\n",
    "            "
   ]
  },
  {
   "cell_type": "markdown",
   "metadata": {},
   "source": [
    "###### o While True serve apenas para que se possa fazer várias operações sem que seja necessário a recompilação do código."
   ]
  }
 ],
 "metadata": {
  "kernelspec": {
   "display_name": "Python 3",
   "language": "python",
   "name": "python3"
  },
  "language_info": {
   "codemirror_mode": {
    "name": "ipython",
    "version": 3
   },
   "file_extension": ".py",
   "mimetype": "text/x-python",
   "name": "python",
   "nbconvert_exporter": "python",
   "pygments_lexer": "ipython3",
   "version": "3.8.6"
  }
 },
 "nbformat": 4,
 "nbformat_minor": 4
}
