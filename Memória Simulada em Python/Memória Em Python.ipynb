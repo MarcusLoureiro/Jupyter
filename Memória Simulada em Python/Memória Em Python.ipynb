{
 "cells": [
  {
   "cell_type": "markdown",
   "metadata": {},
   "source": [
    "# <center>SIMULADOR DE MÉMORIA DE 16 BITS EM PYTHON<center>"
   ]
  },
  {
   "cell_type": "markdown",
   "metadata": {},
   "source": [
    "#### Primeiramente, vamos definir váriaveis para serem usadas posteriormente e evitar muita escrita."
   ]
  },
  {
   "cell_type": "code",
   "execution_count": 2,
   "metadata": {},
   "outputs": [],
   "source": [
    "aviso = \"\"\"ERRO 402\n",
    "Lembre-se que são endereços de 4 bits e dados de 8 bits.\n",
    "Apenas digitos 0 e 1 são permitidos.\n",
    "Tente novamente\"\"\"\n",
    "\n",
    "opcao = \"\"\"Digite:\n",
    "W para escrever.\n",
    "R para ler.\n",
    "L para listar toda a memória.\n",
    "Qualquer tecla para parar.\n",
    "\"\"\""
   ]
  },
  {
   "cell_type": "markdown",
   "metadata": {},
   "source": [
    "#### Agora definiriemos algumas funções."
   ]
  },
  {
   "cell_type": "markdown",
   "metadata": {},
   "source": [
    "#### A primeira converte binário para decimal."
   ]
  },
  {
   "cell_type": "code",
   "execution_count": 3,
   "metadata": {},
   "outputs": [],
   "source": [
    "def converterEndereco(endereco):\n",
    "    pot = int(0)\n",
    "    dec = int(0)\n",
    "    for i in range(len(endereco) - 1, -1, -1):\n",
    "        dec = dec + pow(2, pot)*int((endereco[i]))\n",
    "        pot = pot + 1\n",
    "    return dec  "
   ]
  },
  {
   "cell_type": "markdown",
   "metadata": {},
   "source": [
    "#### A segunda lista todos os dados da memória."
   ]
  },
  {
   "cell_type": "code",
   "execution_count": 4,
   "metadata": {},
   "outputs": [],
   "source": [
    "def listar(lista):\n",
    "    print(\"LISTA DE DADOS\")\n",
    "    for i in range(16):\n",
    "        print(lista[i])\n"
   ]
  },
  {
   "cell_type": "markdown",
   "metadata": {},
   "source": [
    "#### A terceira irá escrever um dado inserido pelo usuário no endereço também definido pelo usuário."
   ]
  },
  {
   "cell_type": "code",
   "execution_count": 5,
   "metadata": {},
   "outputs": [],
   "source": [
    "def escrever(lista, e, dado):\n",
    "    e = converterEndereco(e)\n",
    "    lista[e] = dado\n",
    "    print(\"DADO INSERIDO\")\n"
   ]
  },
  {
   "cell_type": "markdown",
   "metadata": {},
   "source": [
    "#### A quarta irá ler o dado de acordo com o endereço inserido pelo usuário."
   ]
  },
  {
   "cell_type": "code",
   "execution_count": 6,
   "metadata": {},
   "outputs": [],
   "source": [
    "def ler(e, lista):\n",
    "    e = converterEndereco(e)\n",
    "    print(\"DADO CORRESPONDENTE\",lista[e])\n"
   ]
  },
  {
   "cell_type": "markdown",
   "metadata": {},
   "source": [
    "#### A sexta vai iniciar a memória com todos os dados limpos."
   ]
  },
  {
   "cell_type": "code",
   "execution_count": 7,
   "metadata": {},
   "outputs": [],
   "source": [
    "def IniciarMemoria(lista):\n",
    "    for i in range(16):\n",
    "        lista.append(\"00000000\")\n"
   ]
  },
  {
   "cell_type": "markdown",
   "metadata": {},
   "source": [
    "#### A oitava serve para testar se o endereço possui apenas 0 e 1 e no máximo 4 bits."
   ]
  },
  {
   "cell_type": "code",
   "execution_count": 9,
   "metadata": {},
   "outputs": [],
   "source": [
    "def TestaEndereco(endereco):\n",
    "    retorno = None\n",
    "    for i in range(4):\n",
    "        if(endereco[i] != \"0\" and endereco[i] != \"1\"):\n",
    "            retorno = False\n",
    "            return False\n",
    "        else:\n",
    "            retorno = True\n",
    "    if(retorno):\n",
    "        return True\n",
    "    else:\n",
    "        return False"
   ]
  },
  {
   "cell_type": "markdown",
   "metadata": {},
   "source": [
    "#### A nona serve para testar o dado inserido, se possui apenas 0 e 1 e 8 bits."
   ]
  },
  {
   "cell_type": "code",
   "execution_count": 10,
   "metadata": {},
   "outputs": [],
   "source": [
    "def TestaDado(dado):\n",
    "    retorno = None\n",
    "    for i in range(8):\n",
    "        if(dado[i] != \"0\" and dado[i] != \"1\"):\n",
    "            retorno = False\n",
    "            return False\n",
    "        else:\n",
    "            retorno = True\n",
    "    if(retorno):\n",
    "        return True\n",
    "    else:\n",
    "        return False"
   ]
  },
  {
   "cell_type": "markdown",
   "metadata": {},
   "source": [
    "#### Todo o código está a seguir:"
   ]
  },
  {
   "cell_type": "code",
   "execution_count": 11,
   "metadata": {},
   "outputs": [
    {
     "name": "stdout",
     "output_type": "stream",
     "text": [
      "SIMULAÇÃO DE MEMÓRIA DE 16 BITS\n",
      "Digite:\n",
      "W para escrever.\n",
      "R para ler.\n",
      "L para listar toda a memória.\n",
      "Qualquer tecla para parar.\n",
      "L\n"
     ]
    }
   ],
   "source": [
    "print(\"SIMULAÇÃO DE MEMÓRIA DE 16 BITS\")\n",
    "escolha = input(opcao)\n",
    "memory = []\n",
    "IniciarMemoria(memory)"
   ]
  },
  {
   "cell_type": "markdown",
   "metadata": {},
   "source": [
    "#### Perceba que foi pedida a escolha, e logo depois chama-se a função InicarMemoria. Logo depois de acordo com a escolha é iniciada um while que funcionará até que outra tecla que não seja W, L ou R seja inserida. Assim indo para o print final e listando a memória. Caso entre no L, chama-se a função Listar, caso entre no W, chama-se as funções TestarDado, TestarEnereco e caso sejam satisfeitas, chama-se escrever, a mesma coisa ocorre para o R. "
   ]
  },
  {
   "cell_type": "code",
   "execution_count": 12,
   "metadata": {},
   "outputs": [
    {
     "name": "stdout",
     "output_type": "stream",
     "text": [
      "LISTA DE DADOS\n",
      "00000000\n",
      "00000000\n",
      "00000000\n",
      "00000000\n",
      "00000000\n",
      "00000000\n",
      "00000000\n",
      "00000000\n",
      "00000000\n",
      "00000000\n",
      "00000000\n",
      "00000000\n",
      "00000000\n",
      "00000000\n",
      "00000000\n",
      "00000000\n",
      "Digite:\n",
      "W para escrever.\n",
      "R para ler.\n",
      "L para listar toda a memória.\n",
      "Qualquer tecla para parar.\n",
      "W\n",
      "MODO ESCRITA ATIVADO\n",
      "Digite o endereço de 4 bits:0000\n",
      "Digite o dado de 8 bits:10101010\n",
      "DADO INSERIDO\n",
      "Digite:\n",
      "W para escrever.\n",
      "R para ler.\n",
      "L para listar toda a memória.\n",
      "Qualquer tecla para parar.\n",
      "W\n",
      "MODO ESCRITA ATIVADO\n",
      "Digite o endereço de 4 bits:1111\n",
      "Digite o dado de 8 bits:01001111\n",
      "DADO INSERIDO\n",
      "Digite:\n",
      "W para escrever.\n",
      "R para ler.\n",
      "L para listar toda a memória.\n",
      "Qualquer tecla para parar.\n",
      "L\n",
      "LISTA DE DADOS\n",
      "10101010\n",
      "00000000\n",
      "00000000\n",
      "00000000\n",
      "00000000\n",
      "00000000\n",
      "00000000\n",
      "00000000\n",
      "00000000\n",
      "00000000\n",
      "00000000\n",
      "00000000\n",
      "00000000\n",
      "00000000\n",
      "00000000\n",
      "01001111\n",
      "Digite:\n",
      "W para escrever.\n",
      "R para ler.\n",
      "L para listar toda a memória.\n",
      "Qualquer tecla para parar.\n",
      "W\n",
      "MODO ESCRITA ATIVADO\n",
      "Digite o endereço de 4 bits:0101\n",
      "Digite o dado de 8 bits:11111111\n",
      "DADO INSERIDO\n",
      "Digite:\n",
      "W para escrever.\n",
      "R para ler.\n",
      "L para listar toda a memória.\n",
      "Qualquer tecla para parar.\n",
      "L\n",
      "LISTA DE DADOS\n",
      "10101010\n",
      "00000000\n",
      "00000000\n",
      "00000000\n",
      "00000000\n",
      "11111111\n",
      "00000000\n",
      "00000000\n",
      "00000000\n",
      "00000000\n",
      "00000000\n",
      "00000000\n",
      "00000000\n",
      "00000000\n",
      "00000000\n",
      "01001111\n",
      "Digite:\n",
      "W para escrever.\n",
      "R para ler.\n",
      "L para listar toda a memória.\n",
      "Qualquer tecla para parar.\n",
      "R\n",
      "MODO LEITURA ATIVADO\n",
      "Digite o endereço de 4 bits:1111\n",
      "DADO CORRESPONDENTE 01001111\n",
      "Digite:\n",
      "W para escrever.\n",
      "R para ler.\n",
      "L para listar toda a memória.\n",
      "Qualquer tecla para parar.\n",
      "W\n",
      "MODO ESCRITA ATIVADO\n",
      "Digite o endereço de 4 bits:1235\n",
      "Digite o dado de 8 bits:4564894916\n",
      "ERRO 402\n",
      "Lembre-se que são endereços de 4 bits e dados de 8 bits.\n",
      "Apenas digitos 0 e 1 são permitidos.\n",
      "Tente novamente\n",
      "MODO ESCRITA ATIVADO\n",
      "Digite o endereço de 4 bits:0000\n",
      "Digite o dado de 8 bits:10000210\n",
      "ERRO 402\n",
      "Lembre-se que são endereços de 4 bits e dados de 8 bits.\n",
      "Apenas digitos 0 e 1 são permitidos.\n",
      "Tente novamente\n",
      "MODO ESCRITA ATIVADO\n",
      "Digite o endereço de 4 bits:0000\n",
      "Digite o dado de 8 bits:11111111\n",
      "DADO INSERIDO\n",
      "Digite:\n",
      "W para escrever.\n",
      "R para ler.\n",
      "L para listar toda a memória.\n",
      "Qualquer tecla para parar.\n",
      "L\n",
      "LISTA DE DADOS\n",
      "11111111\n",
      "00000000\n",
      "00000000\n",
      "00000000\n",
      "00000000\n",
      "11111111\n",
      "00000000\n",
      "00000000\n",
      "00000000\n",
      "00000000\n",
      "00000000\n",
      "00000000\n",
      "00000000\n",
      "00000000\n",
      "00000000\n",
      "01001111\n",
      "Digite:\n",
      "W para escrever.\n",
      "R para ler.\n",
      "L para listar toda a memória.\n",
      "Qualquer tecla para parar.\n",
      "t\n",
      "MEMÓRIA DESLIGADA\n",
      "LISTA DE DADOS\n",
      "11111111\n",
      "00000000\n",
      "00000000\n",
      "00000000\n",
      "00000000\n",
      "11111111\n",
      "00000000\n",
      "00000000\n",
      "00000000\n",
      "00000000\n",
      "00000000\n",
      "00000000\n",
      "00000000\n",
      "00000000\n",
      "00000000\n",
      "01001111\n"
     ]
    }
   ],
   "source": [
    "while escolha == \"L\" or escolha == \"W\" or escolha == \"R\":\n",
    "    if(escolha == \"L\"):\n",
    "        listar(memory)\n",
    "        escolha = input(opcao)\n",
    "    elif(escolha == \"W\"):\n",
    "        while True:\n",
    "            print(\"MODO ESCRITA ATIVADO\")\n",
    "            endereco = input(\"Digite o endereço de 4 bits:\")\n",
    "            dado = input(\"Digite o dado de 8 bits:\")\n",
    "            if(len(endereco) == 4 and len(dado) == 8 and TestaEndereco(endereco) and TestaDado(dado) ):\n",
    "                escrever(memory, endereco, dado)\n",
    "                escolha = input(opcao)\n",
    "                break\n",
    "            else:\n",
    "                print(aviso)\n",
    "    elif(escolha == \"R\"):\n",
    "        while True:\n",
    "            print(\"MODO LEITURA ATIVADO\")\n",
    "            endereco = input(\"Digite o endereço de 4 bits:\")\n",
    "            if(len(endereco) == 4 and TestaEndereco(endereco)):\n",
    "                ler(endereco, memory)\n",
    "                escolha = input(opcao)\n",
    "                break\n",
    "            else:\n",
    "                print(aviso)\n",
    "print(\"MEMÓRIA DESLIGADA\")\n",
    "listar(memory)"
   ]
  }
 ],
 "metadata": {
  "kernelspec": {
   "display_name": "Python 3",
   "language": "python",
   "name": "python3"
  },
  "language_info": {
   "codemirror_mode": {
    "name": "ipython",
    "version": 3
   },
   "file_extension": ".py",
   "mimetype": "text/x-python",
   "name": "python",
   "nbconvert_exporter": "python",
   "pygments_lexer": "ipython3",
   "version": "3.8.6"
  }
 },
 "nbformat": 4,
 "nbformat_minor": 4
}
