{
 "cells": [
  {
   "cell_type": "markdown",
   "metadata": {},
   "source": [
    "#### <span style=\"color:red\"><center>SIMULAÇÃO DE MEMÓRIA DE MEMÓRIA CACHE COM MAPEAMENTO ASSOCIATIVO POR CONJUNTO<center></span>."
   ]
  },
  {
   "cell_type": "code",
   "execution_count": 1,
   "metadata": {},
   "outputs": [],
   "source": [
    "import math\n",
    "import random"
   ]
  },
  {
   "cell_type": "markdown",
   "metadata": {},
   "source": [
    "**Inicialização das variáveis <span style=\"color:orange\">aviso</span> e  <span style=\"color:orange\">opcao</span>**"
   ]
  },
  {
   "cell_type": "code",
   "execution_count": 2,
   "metadata": {},
   "outputs": [],
   "source": [
    "aviso = \"\"\"ERRO:\n",
    "Lembre-se que são endereços de 5 bits e dados de 8 bits.\n",
    "Apenas digitos 0 e 1 são permitidos.\n",
    "Tente novamente\"\"\"\n",
    "\n",
    "opcao = \"\"\"Digite:\n",
    "W para escrever na Cache.\n",
    "R para ler com um endereço informado.\n",
    "L para listar todos os dados.\n",
    "Qualquer tecla para parar.\n",
    "\"\"\""
   ]
  },
  {
   "cell_type": "markdown",
   "metadata": {},
   "source": [
    "**Inicialização das variáveis e das listas que serão usadas em diferentes partes do programa, assim como a definição dos tamanhos da<span style=\"color:orange\"> TAG</span>, <span style=\"color:orange\">Byte</span> (célula) e o <span style=\"color:orange\">Conjunto</span>, a quantidade de <span style=\"color:orange\">linhas</span>, e as capacidades da <span style=\"color:red\">Cache</span> e <span style=\"color:red\">MP</span> (RAM). Além de outras como os <span style=\"color:red\">Blocos</span> e sua <span style=\"color:red\">quantiadade</span> por célula.**   "
   ]
  },
  {
   "cell_type": "code",
   "execution_count": 3,
   "metadata": {},
   "outputs": [],
   "source": [
    "MP = []\n",
    "Cache = []\n",
    "CapacidadeMP = 32\n",
    "QtdCelulasPorBloco = 2\n",
    "CapacidadeCache = 8\n",
    "Linhas = 4\n",
    "TamanhoEndereco = 5\n",
    "TamanhoTag = 3\n",
    "TamanhoConjunto = 1\n",
    "TamanhoByte = 1\n",
    "LinhaConjunto = 2"
   ]
  },
  {
   "cell_type": "markdown",
   "metadata": {},
   "source": [
    "**Função para inicializar a <span style=\"color:red\">MP</span> de forma <span style=\"color:red\">zerada</span> , ou seja, valores dos seus Bytes serão <span style=\"color:orange\">00000000</span>.**"
   ]
  },
  {
   "cell_type": "code",
   "execution_count": 4,
   "metadata": {},
   "outputs": [],
   "source": [
    "def IniciarMP(lista):\n",
    "    print(\"MP INICIADA\")\n",
    "    for i in range(32):\n",
    "        lista.append(\"00000000\")\n",
    "        print(\"Byte\", i, lista[i])\n",
    "    return \"\""
   ]
  },
  {
   "cell_type": "markdown",
   "metadata": {},
   "source": [
    "**Função para inicializar a <span style=\"color:red\">CACHE</span> de forma <span style=\"color:red\">zerada</span> , ou seja, valores dos seus Bytes serão <span style=\"color:orange\">00000000</span>. E suas TAGs como <span style=\"color:orange\">000</span>  ou <span style=\"color:orange\">001</span>.**"
   ]
  },
  {
   "cell_type": "code",
   "execution_count": 5,
   "metadata": {},
   "outputs": [],
   "source": [
    "def IniciarCache(lista):\n",
    "    print(\n",
    "        \"\"\"              CACHE INCIADA\n",
    "        | TAG | | BYTE 1 |  | BYTE 0 |\"\"\"\n",
    "    )\n",
    "    for i in range(4):\n",
    "        if i % 2 == 0:\n",
    "            lista.append([\"000\", \"00000000\", \"00000000\"])\n",
    "            print(\"LINHA\", i, lista[i])\n",
    "        else:\n",
    "            lista.append([\"001\", \"00000000\", \"00000000\"])\n",
    "            print(\"LINHA\", i, lista[i])\n",
    "    return \"\""
   ]
  },
  {
   "cell_type": "markdown",
   "metadata": {},
   "source": [
    "**Função para inicializar a <span style=\"color:red\">MP</span>, ou seja, valores dos seus Bytes serão <span style=\"color:orange\">EXIBIDOS</span>.**"
   ]
  },
  {
   "cell_type": "code",
   "execution_count": 6,
   "metadata": {},
   "outputs": [],
   "source": [
    "def listarMP(lista):\n",
    "    print(\"MP\")\n",
    "    for i in range(32):\n",
    "        print(\"Byte\", i, lista[i])\n"
   ]
  },
  {
   "cell_type": "markdown",
   "metadata": {},
   "source": [
    "**Função para listar a <span style=\"color:red\">CACHE</span>, ou seja, valores dos seus Bytes serão <span style=\"color:orange\">EXIBIDOS</span> e suas linhas e suas TAGs.**"
   ]
  },
  {
   "cell_type": "code",
   "execution_count": 7,
   "metadata": {},
   "outputs": [],
   "source": [
    "def listarCache(lista):\n",
    "    print(\n",
    "        \"\"\"              CACHE\n",
    "        | TAG | | BYTE 1 |  | BYTE 0 |\"\"\"\n",
    "    )\n",
    "    for i in range(4):\n",
    "        print(\"LINHA\", i, lista[i])\n",
    "    return \"\""
   ]
  },
  {
   "cell_type": "markdown",
   "metadata": {},
   "source": [
    "**Função para <span style=\"color:green\">TESTAR</span>, o <span style=\"color:orange\">ENDERECO</span>, ou seja, valores dos seus Bytes serão <span style=\"color:orange\">PECORRIDOS</span> e caso seja <span style=\"color:red\">DIFERENTE</span> de <span style=\"color:blue\">0</span> ou <span style=\"color:blue\">1</span> será dado como retorno <span style=\"color:red\">FALSE</span> caso ocorro o contrário, é retornado <span style=\"color:green\">TRUE</span>.**"
   ]
  },
  {
   "cell_type": "code",
   "execution_count": 8,
   "metadata": {},
   "outputs": [],
   "source": [
    "def TestaEndereco(endereco):\n",
    "    retorno = None\n",
    "    for i in range(5):\n",
    "        if endereco[i] != \"0\" and endereco[i] != \"1\":\n",
    "            retorno = False\n",
    "            return False\n",
    "        else:\n",
    "            retorno = True\n",
    "    if retorno:\n",
    "        return True\n",
    "    else:\n",
    "        return False"
   ]
  },
  {
   "cell_type": "markdown",
   "metadata": {},
   "source": [
    "**Função para <span style=\"color:green\">TESTAR</span>, o <span style=\"color:orange\">DADO</span>, ou seja, valores dos seus Bytes serão <span style=\"color:orange\">PECORRIDOS</span> e caso seja <span style=\"color:red\">DIFERENTE</span> de <span style=\"color:blue\">0</span> ou <span style=\"color:blue\">1</span> será dado como retorno <span style=\"color:red\">FALSE</span> caso ocorro o contrário, é retornado <span style=\"color:green\">TRUE</span>.**"
   ]
  },
  {
   "cell_type": "code",
   "execution_count": 9,
   "metadata": {},
   "outputs": [],
   "source": [
    "def TestaDado(dado):\n",
    "    retorno = None\n",
    "    for i in range(8):\n",
    "        if dado[i] != \"0\" and dado[i] != \"1\":\n",
    "            retorno = False\n",
    "            return False\n",
    "        else:\n",
    "            retorno = True\n",
    "    if retorno:\n",
    "        return True\n",
    "    else:\n",
    "        return False"
   ]
  },
  {
   "cell_type": "markdown",
   "metadata": {},
   "source": [
    "**Função para <span style=\"color:green\">CONVERTER</span>, o <span style=\"color:orange\">ENDERECO</span>, ou seja, valores dos seus Bytes serão <span style=\"color:orange\">PECORRIDOS</span> e será feita a devida potência e será dado como retorno <span style=\"color:red\">dec</span>, um número <span style=\"color:green\">DECIMAL</span>.**"
   ]
  },
  {
   "cell_type": "code",
   "execution_count": 10,
   "metadata": {},
   "outputs": [],
   "source": [
    "def converterEndereco(endereco):\n",
    "    pot = int(0)\n",
    "    dec = int(0)\n",
    "    for i in range(len(endereco) - 1, -1, -1):\n",
    "        dec = dec + pow(2, pot) * int((endereco[i]))\n",
    "        pot = pot + 1\n",
    "    return dec"
   ]
  },
  {
   "cell_type": "markdown",
   "metadata": {},
   "source": [
    "**Função para <span style=\"color:green\">QUEBRAR</span>, o <span style=\"color:orange\">ENDERECO</span>, ou seja, valores dos seus Bytes serão <span style=\"color:orange\">PECORRIDOS</span> e será feita a devida quebra em <span style=\"color:green\">Tag</span>, <span style=\"color:green\">Byte</span>, <span style=\"color:green\">Conj</span>.**"
   ]
  },
  {
   "cell_type": "code",
   "execution_count": 11,
   "metadata": {},
   "outputs": [],
   "source": [
    "def QuebraEndereco(endereco):\n",
    "    global Tag\n",
    "    global Conj\n",
    "    global Byte\n",
    "    global Bloco\n",
    "    Tag = \"\"\n",
    "    Conj = \"\"\n",
    "    Byte = \"\"\n",
    "    Bloco = \"\"\n",
    "    tamanhoEndereco = len(endereco)\n",
    "    for i in range(len(endereco)):\n",
    "        if i < TamanhoTag:\n",
    "            Tag = Tag + endereco[i]\n",
    "        elif i < TamanhoTag + TamanhoConjunto:\n",
    "            Conj = Conj + endereco[i]\n",
    "        elif i < TamanhoTag + TamanhoConjunto + TamanhoByte:\n",
    "            Byte = Byte + endereco[i]\n",
    "    print(\"TAG:\", Tag)\n",
    "    print(\"CONJUNTO:\", Conj)\n",
    "    print(\"BYTE:\", Byte)\n",
    "    return \"\""
   ]
  },
  {
   "cell_type": "markdown",
   "metadata": {},
   "source": [
    "**Função para <span style=\"color:green\">ENCONTRAR</span>, o <span style=\"color:orange\">DADO</span>, correspondente ao endereço informado pelo usuário, em que se procura específicamente na <span style=\"color:orange\">TAG</span>, caso haja tal <span style=\"color:magenta\">TAG</span> na <span style=\"color:magenta\">CACHE</span> é dado um <span style=\"color:green\">HIT</span>, caso contrário, <span style=\"color:red\">MISS</span> e começa a procura de acordo com o endereço na <span style=\"color:red\">MP</span>. Uma <span style=\"color:green\">LINHA</span> aleatória é criada para receber o bloco da MP, cujo corresponde ao endereço.**"
   ]
  },
  {
   "cell_type": "code",
   "execution_count": 12,
   "metadata": {},
   "outputs": [],
   "source": [
    "def EncontraDadoCache():\n",
    "    global linha\n",
    "    global indice\n",
    "    global Bloco\n",
    "    procura = (converterEndereco(Conj)) * LinhaConjunto\n",
    "    busca = False\n",
    "    for i in range((procura), (procura + 2)):\n",
    "        if Tag == Cache[i][0]:\n",
    "            indice = i\n",
    "            busca = True\n",
    "            return busca\n",
    "            break\n",
    "    if busca == False:\n",
    "        Bloco = int(converterEndereco(Tag + Conj))\n",
    "        linha = random.randrange((procura), (procura + 2))\n",
    "        Cache[linha][0] = Tag\n",
    "        Cache[linha][2] = MP[(Bloco * 2)]\n",
    "        Cache[linha][1] = MP[(Bloco * 2) + 1]\n",
    "        busca = False\n",
    "    return busca"
   ]
  },
  {
   "cell_type": "markdown",
   "metadata": {},
   "source": [
    "**Função para <span style=\"color:green\">EXIBIR</span>, os <span style=\"color:orange\">DADOS</span>, correspondente ao endereço informado pelo usuário. Usada no Cache <span style=\"color:green\">HIT</span>.**"
   ]
  },
  {
   "cell_type": "code",
   "execution_count": 13,
   "metadata": {},
   "outputs": [],
   "source": [
    "def ExibeRespostaCache(Byte, indice):\n",
    "    if Byte == \"0\":\n",
    "        print(\"Dado:\", Cache[indice][2])\n",
    "    elif Byte == \"1\":\n",
    "        print(\"Dado:\", Cache[indice][1])\n",
    "    return \"\"\n"
   ]
  },
  {
   "cell_type": "markdown",
   "metadata": {},
   "source": [
    "**Função para <span style=\"color:green\">EXIBIR</span>, os <span style=\"color:orange\">DADOS</span>, correspondente ao endereço informado pelo usuário, mas da MP, usada no Cache <span style=\"color:red\">MISS</span>.**"
   ]
  },
  {
   "cell_type": "code",
   "execution_count": 14,
   "metadata": {},
   "outputs": [],
   "source": [
    "def ExibeRespostaMpCache(b0, b1, bloco, linha, tag, byte):\n",
    "    print(\"Bloco correspondente:\", bloco)\n",
    "    print(\"Byte 0:\", b0)\n",
    "    print(\"Byte 1:\", b1)\n",
    "    print(\n",
    "        \"\"\"              CACHE\n",
    "       | TAG | | BYTE 1 |  | BYTE 0 |\"\"\"\n",
    "    )\n",
    "    print(\"LINHA\", linha, \"\", Tag, \"  \", b1, \"  \", b0)\n",
    "    if byte == \"1\":\n",
    "        print(\"DADO:\", b1)\n",
    "    else:\n",
    "        print(\"DADO:\", b0)\n",
    "    return \"\""
   ]
  },
  {
   "cell_type": "markdown",
   "metadata": {},
   "source": [
    "**Função para <span style=\"color:green\">ESCREVER</span>, os <span style=\"color:orange\">DADOS</span>, correspondente ao endereço informado pelo usuário na <span style=\"color:orange\">CACHE</span>. Caso seja um <span style=\"color:green\">HIT</span>.**"
   ]
  },
  {
   "cell_type": "code",
   "execution_count": 15,
   "metadata": {},
   "outputs": [],
   "source": [
    "def EscreverDado(indice, Byte, dado, endereco):\n",
    "    Cache[indice][0] = Tag\n",
    "    if Byte == \"1\":\n",
    "        Cache[indice][1] = dado\n",
    "        return \"Dado inserido\"\n",
    "    else:\n",
    "        Cache[indice][2] = dado\n",
    "        return \"Dado inserido\""
   ]
  },
  {
   "cell_type": "markdown",
   "metadata": {},
   "source": [
    "**Função para <span style=\"color:green\">ESCREVER</span>, os <span style=\"color:orange\">DADOS</span>, correspondente ao endereço informado pelo usuário na <span style=\"color:orange\">MP</span>. Caso seja um <span style=\"color:green\">HIT</span>.**"
   ]
  },
  {
   "cell_type": "code",
   "execution_count": 16,
   "metadata": {},
   "outputs": [],
   "source": [
    "def EscreverDadoMP(indice, Byte, dado, endereco):\n",
    "    i = converterEndereco(endereco)\n",
    "    if Byte == \"1\":\n",
    "        MP[int(i)] = Cache[indice][1]\n",
    "    if Byte == \"0\":\n",
    "        MP[int(i)] = Cache[indice][2]\n",
    "    return \"\"\n"
   ]
  },
  {
   "cell_type": "markdown",
   "metadata": {},
   "source": [
    "**Função para <span style=\"color:green\">ESCREVER</span>, os <span style=\"color:orange\">DADOS</span>, correspondente ao endereço informado pelo usuário na <span style=\"color:green\">CACHE</span> e na <span style=\"color:green\">MP</span>. Caso seja um <span style=\"color:red\">MISS</span>.**"
   ]
  },
  {
   "cell_type": "code",
   "execution_count": 17,
   "metadata": {},
   "outputs": [],
   "source": [
    "def EscreverDadoMPCache(endereco, dado):\n",
    "    indice = int(converterEndereco(endereco))\n",
    "    for i in range(32):\n",
    "        if indice == i:\n",
    "            MP[indice] = dado\n",
    "            Cache[linha][0] = Tag\n",
    "            Cache[linha][2] = MP[(Bloco * 2)]\n",
    "            Cache[linha][1] = MP[(Bloco * 2) + 1]\n",
    "            return \"Dado escrito na MP e na Cache\""
   ]
  },
  {
   "cell_type": "markdown",
   "metadata": {},
   "source": [
    "**Parte do código que exibe a inicialização das memórias e pede qual função será ativada <span style=\"color:green\">leitura</span>, <span style=\"color:green\">escrita</span> ou <span style=\"color:green\">listar</span>**."
   ]
  },
  {
   "cell_type": "code",
   "execution_count": 18,
   "metadata": {},
   "outputs": [
    {
     "name": "stdout",
     "output_type": "stream",
     "text": [
      "              CACHE INCIADA\n",
      "        | TAG | | BYTE 1 |  | BYTE 0 |\n",
      "LINHA 0 ['000', '00000000', '00000000']\n",
      "LINHA 1 ['001', '00000000', '00000000']\n",
      "LINHA 2 ['000', '00000000', '00000000']\n",
      "LINHA 3 ['001', '00000000', '00000000']\n",
      "\n",
      "MP INICIADA\n",
      "Byte 0 00000000\n",
      "Byte 1 00000000\n",
      "Byte 2 00000000\n",
      "Byte 3 00000000\n",
      "Byte 4 00000000\n",
      "Byte 5 00000000\n",
      "Byte 6 00000000\n",
      "Byte 7 00000000\n",
      "Byte 8 00000000\n",
      "Byte 9 00000000\n",
      "Byte 10 00000000\n",
      "Byte 11 00000000\n",
      "Byte 12 00000000\n",
      "Byte 13 00000000\n",
      "Byte 14 00000000\n",
      "Byte 15 00000000\n",
      "Byte 16 00000000\n",
      "Byte 17 00000000\n",
      "Byte 18 00000000\n",
      "Byte 19 00000000\n",
      "Byte 20 00000000\n",
      "Byte 21 00000000\n",
      "Byte 22 00000000\n",
      "Byte 23 00000000\n",
      "Byte 24 00000000\n",
      "Byte 25 00000000\n",
      "Byte 26 00000000\n",
      "Byte 27 00000000\n",
      "Byte 28 00000000\n",
      "Byte 29 00000000\n",
      "Byte 30 00000000\n",
      "Byte 31 00000000\n",
      "\n",
      "Digite:\n",
      "W para escrever na Cache.\n",
      "R para ler com um endereço informado.\n",
      "L para listar todos os dados.\n",
      "Qualquer tecla para parar.\n",
      "W\n"
     ]
    }
   ],
   "source": [
    "print(IniciarCache(Cache))\n",
    "print(IniciarMP(MP))\n",
    "escolha = input(opcao)"
   ]
  },
  {
   "cell_type": "markdown",
   "metadata": {},
   "source": [
    "**Parte do código que será um while infinito até que o usuário deseje encerrar o programa**."
   ]
  },
  {
   "cell_type": "code",
   "execution_count": null,
   "metadata": {},
   "outputs": [
    {
     "name": "stdout",
     "output_type": "stream",
     "text": [
      "MODO ESCRITA ATIVADO\n",
      "Digite o endereço de 5 bits:00000\n",
      "Digite o dado de 8 bits:11100011\n",
      "TAG: 000\n",
      "CONJUNTO: 0\n",
      "BYTE: 0\n",
      "Cache hit...\n",
      "Dado inserido\n",
      "              CACHE\n",
      "        | TAG | | BYTE 1 |  | BYTE 0 |\n",
      "LINHA 0 ['000', '00000000', '11100011']\n",
      "LINHA 1 ['001', '00000000', '00000000']\n",
      "LINHA 2 ['000', '00000000', '00000000']\n",
      "LINHA 3 ['001', '00000000', '00000000']\n",
      "MP\n",
      "Byte 0 11100011\n",
      "Byte 1 00000000\n",
      "Byte 2 00000000\n",
      "Byte 3 00000000\n",
      "Byte 4 00000000\n",
      "Byte 5 00000000\n",
      "Byte 6 00000000\n",
      "Byte 7 00000000\n",
      "Byte 8 00000000\n",
      "Byte 9 00000000\n",
      "Byte 10 00000000\n",
      "Byte 11 00000000\n",
      "Byte 12 00000000\n",
      "Byte 13 00000000\n",
      "Byte 14 00000000\n",
      "Byte 15 00000000\n",
      "Byte 16 00000000\n",
      "Byte 17 00000000\n",
      "Byte 18 00000000\n",
      "Byte 19 00000000\n",
      "Byte 20 00000000\n",
      "Byte 21 00000000\n",
      "Byte 22 00000000\n",
      "Byte 23 00000000\n",
      "Byte 24 00000000\n",
      "Byte 25 00000000\n",
      "Byte 26 00000000\n",
      "Byte 27 00000000\n",
      "Byte 28 00000000\n",
      "Byte 29 00000000\n",
      "Byte 30 00000000\n",
      "Byte 31 00000000\n",
      "Digite:\n",
      "W para escrever na Cache.\n",
      "R para ler com um endereço informado.\n",
      "L para listar todos os dados.\n",
      "Qualquer tecla para parar.\n",
      "W\n",
      "MODO ESCRITA ATIVADO\n",
      "Digite o endereço de 5 bits:11111\n",
      "Digite o dado de 8 bits:01010101\n",
      "TAG: 111\n",
      "CONJUNTO: 1\n",
      "BYTE: 1\n",
      "Cache miss...\n",
      "MP\n",
      "Byte 0 11100011\n",
      "Byte 1 00000000\n",
      "Byte 2 00000000\n",
      "Byte 3 00000000\n",
      "Byte 4 00000000\n",
      "Byte 5 00000000\n",
      "Byte 6 00000000\n",
      "Byte 7 00000000\n",
      "Byte 8 00000000\n",
      "Byte 9 00000000\n",
      "Byte 10 00000000\n",
      "Byte 11 00000000\n",
      "Byte 12 00000000\n",
      "Byte 13 00000000\n",
      "Byte 14 00000000\n",
      "Byte 15 00000000\n",
      "Byte 16 00000000\n",
      "Byte 17 00000000\n",
      "Byte 18 00000000\n",
      "Byte 19 00000000\n",
      "Byte 20 00000000\n",
      "Byte 21 00000000\n",
      "Byte 22 00000000\n",
      "Byte 23 00000000\n",
      "Byte 24 00000000\n",
      "Byte 25 00000000\n",
      "Byte 26 00000000\n",
      "Byte 27 00000000\n",
      "Byte 28 00000000\n",
      "Byte 29 00000000\n",
      "Byte 30 00000000\n",
      "Byte 31 01010101\n",
      "              CACHE\n",
      "        | TAG | | BYTE 1 |  | BYTE 0 |\n",
      "LINHA 0 ['000', '00000000', '11100011']\n",
      "LINHA 1 ['001', '00000000', '00000000']\n",
      "LINHA 2 ['000', '00000000', '00000000']\n",
      "LINHA 3 ['111', '01010101', '00000000']\n",
      "Digite:\n",
      "W para escrever na Cache.\n",
      "R para ler com um endereço informado.\n",
      "L para listar todos os dados.\n",
      "Qualquer tecla para parar.\n",
      "R\n",
      "MODO LEITURA ATIVADO\n",
      "Digite o endereço de 5 bits:11111\n",
      "TAG: 111\n",
      "CONJUNTO: 1\n",
      "BYTE: 1\n",
      "Cache hit...\n",
      "Dado: 01010101\n",
      "Digite:\n",
      "W para escrever na Cache.\n",
      "R para ler com um endereço informado.\n",
      "L para listar todos os dados.\n",
      "Qualquer tecla para parar.\n",
      "L\n",
      "              CACHE\n",
      "        | TAG | | BYTE 1 |  | BYTE 0 |\n",
      "LINHA 0 ['000', '00000000', '11100011']\n",
      "LINHA 1 ['001', '00000000', '00000000']\n",
      "LINHA 2 ['000', '00000000', '00000000']\n",
      "LINHA 3 ['111', '01010101', '00000000']\n",
      "MP\n",
      "Byte 0 11100011\n",
      "Byte 1 00000000\n",
      "Byte 2 00000000\n",
      "Byte 3 00000000\n",
      "Byte 4 00000000\n",
      "Byte 5 00000000\n",
      "Byte 6 00000000\n",
      "Byte 7 00000000\n",
      "Byte 8 00000000\n",
      "Byte 9 00000000\n",
      "Byte 10 00000000\n",
      "Byte 11 00000000\n",
      "Byte 12 00000000\n",
      "Byte 13 00000000\n",
      "Byte 14 00000000\n",
      "Byte 15 00000000\n",
      "Byte 16 00000000\n",
      "Byte 17 00000000\n",
      "Byte 18 00000000\n",
      "Byte 19 00000000\n",
      "Byte 20 00000000\n",
      "Byte 21 00000000\n",
      "Byte 22 00000000\n",
      "Byte 23 00000000\n",
      "Byte 24 00000000\n",
      "Byte 25 00000000\n",
      "Byte 26 00000000\n",
      "Byte 27 00000000\n",
      "Byte 28 00000000\n",
      "Byte 29 00000000\n",
      "Byte 30 00000000\n",
      "Byte 31 01010101\n"
     ]
    }
   ],
   "source": [
    "while escolha == \"L\" or escolha == \"W\" or escolha == \"R\":\n",
    "    if escolha == \"L\":\n",
    "        listarCache(Cache)\n",
    "        listarMP(MP)\n",
    "        escolha = input(opcao)\n",
    "    elif escolha == \"W\":\n",
    "        while True:\n",
    "            print(\"MODO ESCRITA ATIVADO\")\n",
    "            endereco = input(\"Digite o endereço de 5 bits:\")\n",
    "            dado = input(\"Digite o dado de 8 bits:\")\n",
    "            if (\n",
    "                len(endereco) == 5\n",
    "                and len(dado) == 8\n",
    "                and TestaEndereco(endereco)\n",
    "                and TestaDado(dado)\n",
    "            ):\n",
    "                QuebraEndereco(endereco)\n",
    "                if EncontraDadoCache() == True:\n",
    "                    print(\"Cache hit...\")\n",
    "                    print(EscreverDado(indice, Byte, dado, endereco))\n",
    "                    EscreverDadoMP(indice, Byte, dado, endereco)\n",
    "                    listarCache(Cache)\n",
    "                    listarMP(MP)\n",
    "                else:\n",
    "                    print(\"Cache miss...\")\n",
    "                    EscreverDadoMPCache(endereco, dado)\n",
    "                    listarMP(MP)\n",
    "                    listarCache(Cache)\n",
    "                escolha = input(opcao)\n",
    "                break\n",
    "            else:\n",
    "                print(aviso)\n",
    "    elif escolha == \"R\":\n",
    "        while True:\n",
    "            print(\"MODO LEITURA ATIVADO\")\n",
    "            endereco = input(\"Digite o endereço de 5 bits:\")\n",
    "            if len(endereco) == 5 and TestaEndereco(endereco):\n",
    "                QuebraEndereco(endereco)\n",
    "                if EncontraDadoCache() == False:\n",
    "                    print(\"Cache miss...\")\n",
    "                    ExibeRespostaMpCache(\n",
    "                        Cache[linha][2], Cache[linha][1], Bloco, linha, Tag, Byte\n",
    "                    )\n",
    "                else:\n",
    "                    print(\"Cache hit...\")\n",
    "                    ExibeRespostaCache(Byte, indice)\n",
    "                escolha = input(opcao)\n",
    "                break\n",
    "            else:\n",
    "                print(aviso)\n",
    "print(\"SISTEMA DESLIGADO\")"
   ]
  }
 ],
 "metadata": {
  "kernelspec": {
   "display_name": "Python 3",
   "language": "python",
   "name": "python3"
  },
  "language_info": {
   "codemirror_mode": {
    "name": "ipython",
    "version": 3
   },
   "file_extension": ".py",
   "mimetype": "text/x-python",
   "name": "python",
   "nbconvert_exporter": "python",
   "pygments_lexer": "ipython3",
   "version": "3.8.6"
  }
 },
 "nbformat": 4,
 "nbformat_minor": 4
}
